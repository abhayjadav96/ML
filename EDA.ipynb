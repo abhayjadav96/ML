{
 "cells": [
  {
   "cell_type": "code",
   "execution_count": 10,
   "id": "36bbf6d0",
   "metadata": {},
   "outputs": [
    {
     "data": {
      "text/html": [
       "<div>\n",
       "<style scoped>\n",
       "    .dataframe tbody tr th:only-of-type {\n",
       "        vertical-align: middle;\n",
       "    }\n",
       "\n",
       "    .dataframe tbody tr th {\n",
       "        vertical-align: top;\n",
       "    }\n",
       "\n",
       "    .dataframe thead th {\n",
       "        text-align: right;\n",
       "    }\n",
       "</style>\n",
       "<table border=\"1\" class=\"dataframe\">\n",
       "  <thead>\n",
       "    <tr style=\"text-align: right;\">\n",
       "      <th></th>\n",
       "      <th>Id</th>\n",
       "      <th>County</th>\n",
       "      <th>Province_State</th>\n",
       "      <th>Country_Region</th>\n",
       "      <th>Population</th>\n",
       "      <th>Weight</th>\n",
       "      <th>Date</th>\n",
       "      <th>Target</th>\n",
       "      <th>TargetValue</th>\n",
       "    </tr>\n",
       "  </thead>\n",
       "  <tbody>\n",
       "    <tr>\n",
       "      <th>0</th>\n",
       "      <td>1</td>\n",
       "      <td>NaN</td>\n",
       "      <td>NaN</td>\n",
       "      <td>Afghanistan</td>\n",
       "      <td>27657145</td>\n",
       "      <td>0.058359</td>\n",
       "      <td>2020-01-23</td>\n",
       "      <td>ConfirmedCases</td>\n",
       "      <td>0</td>\n",
       "    </tr>\n",
       "    <tr>\n",
       "      <th>1</th>\n",
       "      <td>2</td>\n",
       "      <td>NaN</td>\n",
       "      <td>NaN</td>\n",
       "      <td>Afghanistan</td>\n",
       "      <td>27657145</td>\n",
       "      <td>0.583587</td>\n",
       "      <td>2020-01-23</td>\n",
       "      <td>Fatalities</td>\n",
       "      <td>0</td>\n",
       "    </tr>\n",
       "    <tr>\n",
       "      <th>2</th>\n",
       "      <td>3</td>\n",
       "      <td>NaN</td>\n",
       "      <td>NaN</td>\n",
       "      <td>Afghanistan</td>\n",
       "      <td>27657145</td>\n",
       "      <td>0.058359</td>\n",
       "      <td>2020-01-24</td>\n",
       "      <td>ConfirmedCases</td>\n",
       "      <td>0</td>\n",
       "    </tr>\n",
       "    <tr>\n",
       "      <th>3</th>\n",
       "      <td>4</td>\n",
       "      <td>NaN</td>\n",
       "      <td>NaN</td>\n",
       "      <td>Afghanistan</td>\n",
       "      <td>27657145</td>\n",
       "      <td>0.583587</td>\n",
       "      <td>2020-01-24</td>\n",
       "      <td>Fatalities</td>\n",
       "      <td>0</td>\n",
       "    </tr>\n",
       "    <tr>\n",
       "      <th>4</th>\n",
       "      <td>5</td>\n",
       "      <td>NaN</td>\n",
       "      <td>NaN</td>\n",
       "      <td>Afghanistan</td>\n",
       "      <td>27657145</td>\n",
       "      <td>0.058359</td>\n",
       "      <td>2020-01-25</td>\n",
       "      <td>ConfirmedCases</td>\n",
       "      <td>0</td>\n",
       "    </tr>\n",
       "    <tr>\n",
       "      <th>...</th>\n",
       "      <td>...</td>\n",
       "      <td>...</td>\n",
       "      <td>...</td>\n",
       "      <td>...</td>\n",
       "      <td>...</td>\n",
       "      <td>...</td>\n",
       "      <td>...</td>\n",
       "      <td>...</td>\n",
       "      <td>...</td>\n",
       "    </tr>\n",
       "    <tr>\n",
       "      <th>969635</th>\n",
       "      <td>969636</td>\n",
       "      <td>NaN</td>\n",
       "      <td>NaN</td>\n",
       "      <td>Zimbabwe</td>\n",
       "      <td>14240168</td>\n",
       "      <td>0.607106</td>\n",
       "      <td>2020-06-08</td>\n",
       "      <td>Fatalities</td>\n",
       "      <td>0</td>\n",
       "    </tr>\n",
       "    <tr>\n",
       "      <th>969636</th>\n",
       "      <td>969637</td>\n",
       "      <td>NaN</td>\n",
       "      <td>NaN</td>\n",
       "      <td>Zimbabwe</td>\n",
       "      <td>14240168</td>\n",
       "      <td>0.060711</td>\n",
       "      <td>2020-06-09</td>\n",
       "      <td>ConfirmedCases</td>\n",
       "      <td>27</td>\n",
       "    </tr>\n",
       "    <tr>\n",
       "      <th>969637</th>\n",
       "      <td>969638</td>\n",
       "      <td>NaN</td>\n",
       "      <td>NaN</td>\n",
       "      <td>Zimbabwe</td>\n",
       "      <td>14240168</td>\n",
       "      <td>0.607106</td>\n",
       "      <td>2020-06-09</td>\n",
       "      <td>Fatalities</td>\n",
       "      <td>0</td>\n",
       "    </tr>\n",
       "    <tr>\n",
       "      <th>969638</th>\n",
       "      <td>969639</td>\n",
       "      <td>NaN</td>\n",
       "      <td>NaN</td>\n",
       "      <td>Zimbabwe</td>\n",
       "      <td>14240168</td>\n",
       "      <td>0.060711</td>\n",
       "      <td>2020-06-10</td>\n",
       "      <td>ConfirmedCases</td>\n",
       "      <td>6</td>\n",
       "    </tr>\n",
       "    <tr>\n",
       "      <th>969639</th>\n",
       "      <td>969640</td>\n",
       "      <td>NaN</td>\n",
       "      <td>NaN</td>\n",
       "      <td>Zimbabwe</td>\n",
       "      <td>14240168</td>\n",
       "      <td>0.607106</td>\n",
       "      <td>2020-06-10</td>\n",
       "      <td>Fatalities</td>\n",
       "      <td>0</td>\n",
       "    </tr>\n",
       "  </tbody>\n",
       "</table>\n",
       "<p>969640 rows × 9 columns</p>\n",
       "</div>"
      ],
      "text/plain": [
       "            Id County Province_State Country_Region  Population    Weight  \\\n",
       "0            1    NaN            NaN    Afghanistan    27657145  0.058359   \n",
       "1            2    NaN            NaN    Afghanistan    27657145  0.583587   \n",
       "2            3    NaN            NaN    Afghanistan    27657145  0.058359   \n",
       "3            4    NaN            NaN    Afghanistan    27657145  0.583587   \n",
       "4            5    NaN            NaN    Afghanistan    27657145  0.058359   \n",
       "...        ...    ...            ...            ...         ...       ...   \n",
       "969635  969636    NaN            NaN       Zimbabwe    14240168  0.607106   \n",
       "969636  969637    NaN            NaN       Zimbabwe    14240168  0.060711   \n",
       "969637  969638    NaN            NaN       Zimbabwe    14240168  0.607106   \n",
       "969638  969639    NaN            NaN       Zimbabwe    14240168  0.060711   \n",
       "969639  969640    NaN            NaN       Zimbabwe    14240168  0.607106   \n",
       "\n",
       "              Date          Target  TargetValue  \n",
       "0       2020-01-23  ConfirmedCases            0  \n",
       "1       2020-01-23      Fatalities            0  \n",
       "2       2020-01-24  ConfirmedCases            0  \n",
       "3       2020-01-24      Fatalities            0  \n",
       "4       2020-01-25  ConfirmedCases            0  \n",
       "...            ...             ...          ...  \n",
       "969635  2020-06-08      Fatalities            0  \n",
       "969636  2020-06-09  ConfirmedCases           27  \n",
       "969637  2020-06-09      Fatalities            0  \n",
       "969638  2020-06-10  ConfirmedCases            6  \n",
       "969639  2020-06-10      Fatalities            0  \n",
       "\n",
       "[969640 rows x 9 columns]"
      ]
     },
     "execution_count": 10,
     "metadata": {},
     "output_type": "execute_result"
    }
   ],
   "source": [
    "import pandas as pd\n",
    "import matplotlib.pyplot as plt\n",
    "import numpy as np\n",
    "\n",
    "df = pd.read_csv('W:/Python Programs/DataScience/train.csv',low_memory=False)\n",
    "df\n",
    "\n",
    "# Display data"
   ]
  },
  {
   "cell_type": "code",
   "execution_count": 11,
   "id": "31145ae0",
   "metadata": {},
   "outputs": [
    {
     "data": {
      "text/html": [
       "<div>\n",
       "<style scoped>\n",
       "    .dataframe tbody tr th:only-of-type {\n",
       "        vertical-align: middle;\n",
       "    }\n",
       "\n",
       "    .dataframe tbody tr th {\n",
       "        vertical-align: top;\n",
       "    }\n",
       "\n",
       "    .dataframe thead th {\n",
       "        text-align: right;\n",
       "    }\n",
       "</style>\n",
       "<table border=\"1\" class=\"dataframe\">\n",
       "  <thead>\n",
       "    <tr style=\"text-align: right;\">\n",
       "      <th></th>\n",
       "      <th>Id</th>\n",
       "      <th>Population</th>\n",
       "      <th>Weight</th>\n",
       "      <th>TargetValue</th>\n",
       "    </tr>\n",
       "  </thead>\n",
       "  <tbody>\n",
       "    <tr>\n",
       "      <th>count</th>\n",
       "      <td>969640.000000</td>\n",
       "      <td>9.696400e+05</td>\n",
       "      <td>969640.000000</td>\n",
       "      <td>969640.000000</td>\n",
       "    </tr>\n",
       "    <tr>\n",
       "      <th>mean</th>\n",
       "      <td>484820.500000</td>\n",
       "      <td>2.720127e+06</td>\n",
       "      <td>0.530870</td>\n",
       "      <td>12.563518</td>\n",
       "    </tr>\n",
       "    <tr>\n",
       "      <th>std</th>\n",
       "      <td>279911.101847</td>\n",
       "      <td>3.477771e+07</td>\n",
       "      <td>0.451909</td>\n",
       "      <td>302.524795</td>\n",
       "    </tr>\n",
       "    <tr>\n",
       "      <th>min</th>\n",
       "      <td>1.000000</td>\n",
       "      <td>8.600000e+01</td>\n",
       "      <td>0.047491</td>\n",
       "      <td>-10034.000000</td>\n",
       "    </tr>\n",
       "    <tr>\n",
       "      <th>25%</th>\n",
       "      <td>242410.750000</td>\n",
       "      <td>1.213300e+04</td>\n",
       "      <td>0.096838</td>\n",
       "      <td>0.000000</td>\n",
       "    </tr>\n",
       "    <tr>\n",
       "      <th>50%</th>\n",
       "      <td>484820.500000</td>\n",
       "      <td>3.053100e+04</td>\n",
       "      <td>0.349413</td>\n",
       "      <td>0.000000</td>\n",
       "    </tr>\n",
       "    <tr>\n",
       "      <th>75%</th>\n",
       "      <td>727230.250000</td>\n",
       "      <td>1.056120e+05</td>\n",
       "      <td>0.968379</td>\n",
       "      <td>0.000000</td>\n",
       "    </tr>\n",
       "    <tr>\n",
       "      <th>max</th>\n",
       "      <td>969640.000000</td>\n",
       "      <td>1.395773e+09</td>\n",
       "      <td>2.239186</td>\n",
       "      <td>36163.000000</td>\n",
       "    </tr>\n",
       "  </tbody>\n",
       "</table>\n",
       "</div>"
      ],
      "text/plain": [
       "                  Id    Population         Weight    TargetValue\n",
       "count  969640.000000  9.696400e+05  969640.000000  969640.000000\n",
       "mean   484820.500000  2.720127e+06       0.530870      12.563518\n",
       "std    279911.101847  3.477771e+07       0.451909     302.524795\n",
       "min         1.000000  8.600000e+01       0.047491  -10034.000000\n",
       "25%    242410.750000  1.213300e+04       0.096838       0.000000\n",
       "50%    484820.500000  3.053100e+04       0.349413       0.000000\n",
       "75%    727230.250000  1.056120e+05       0.968379       0.000000\n",
       "max    969640.000000  1.395773e+09       2.239186   36163.000000"
      ]
     },
     "execution_count": 11,
     "metadata": {},
     "output_type": "execute_result"
    }
   ],
   "source": [
    "# Describe dataframe\n",
    "\n",
    "df.describe()\n"
   ]
  },
  {
   "cell_type": "code",
   "execution_count": 13,
   "id": "de94553b",
   "metadata": {},
   "outputs": [
    {
     "data": {
      "text/plain": [
       "(969640, 9)"
      ]
     },
     "execution_count": 13,
     "metadata": {},
     "output_type": "execute_result"
    }
   ],
   "source": [
    "#Data shape\n",
    "\n",
    "df.shape"
   ]
  },
  {
   "cell_type": "code",
   "execution_count": 27,
   "id": "bb701cf8",
   "metadata": {},
   "outputs": [
    {
     "data": {
      "text/plain": [
       "(880040, 9)"
      ]
     },
     "execution_count": 27,
     "metadata": {},
     "output_type": "execute_result"
    }
   ],
   "source": [
    "df.shape"
   ]
  },
  {
   "cell_type": "code",
   "execution_count": 14,
   "id": "4dd80850",
   "metadata": {},
   "outputs": [
    {
     "data": {
      "text/plain": [
       "Id                969640\n",
       "County              1840\n",
       "Province_State       133\n",
       "Country_Region       187\n",
       "Population          3408\n",
       "Weight              6816\n",
       "Date                 140\n",
       "Target                 2\n",
       "TargetValue         2603\n",
       "dtype: int64"
      ]
     },
     "execution_count": 14,
     "metadata": {},
     "output_type": "execute_result"
    }
   ],
   "source": [
    "#Finding unique values\n",
    "\n",
    "df.nunique()"
   ]
  },
  {
   "cell_type": "code",
   "execution_count": 21,
   "id": "47e915d8",
   "metadata": {},
   "outputs": [
    {
     "data": {
      "text/plain": [
       "Id                    0\n",
       "County            89600\n",
       "Province_State    52360\n",
       "Country_Region        0\n",
       "Population            0\n",
       "Weight                0\n",
       "Date                  0\n",
       "Target                0\n",
       "TargetValue           0\n",
       "dtype: int64"
      ]
     },
     "execution_count": 21,
     "metadata": {},
     "output_type": "execute_result"
    }
   ],
   "source": [
    "#checking for null values\n",
    "\n",
    "df.isnull().sum()\n",
    "\n",
    "#df.dropna(subset = [\"\"], implace=True)"
   ]
  },
  {
   "cell_type": "code",
   "execution_count": 25,
   "id": "28517ccc",
   "metadata": {
    "scrolled": true
   },
   "outputs": [],
   "source": [
    "#Filling Null values\n",
    "\n",
    "df.dropna(subset = [\"County\"], inplace=True)"
   ]
  },
  {
   "cell_type": "code",
   "execution_count": 26,
   "id": "68d37d63",
   "metadata": {},
   "outputs": [
    {
     "data": {
      "text/plain": [
       "Id                0\n",
       "County            0\n",
       "Province_State    0\n",
       "Country_Region    0\n",
       "Population        0\n",
       "Weight            0\n",
       "Date              0\n",
       "Target            0\n",
       "TargetValue       0\n",
       "dtype: int64"
      ]
     },
     "execution_count": 26,
     "metadata": {},
     "output_type": "execute_result"
    }
   ],
   "source": [
    "df.isnull().sum()\n"
   ]
  },
  {
   "cell_type": "code",
   "execution_count": 52,
   "id": "9239e0c7",
   "metadata": {
    "scrolled": true
   },
   "outputs": [
    {
     "name": "stdout",
     "output_type": "stream",
     "text": [
      "Most number of cases US                895440\n",
      "China               9520\n",
      "Canada              3640\n",
      "France              3080\n",
      "United Kingdom      3080\n",
      "Australia           2520\n",
      "Netherlands         1400\n",
      "Denmark              840\n",
      "Belgium              280\n",
      "Eswatini             280\n",
      "Name: Country_Region, dtype: int64\n"
     ]
    }
   ],
   "source": [
    "# Most cases registered \n",
    "\n",
    "#df['Country_Region'].value_counts()\n",
    "\n",
    "print(\"Most number of cases\",df['Country_Region'].value_counts()[:10])"
   ]
  },
  {
   "cell_type": "code",
   "execution_count": 55,
   "id": "5f4cbd24",
   "metadata": {},
   "outputs": [
    {
     "name": "stdout",
     "output_type": "stream",
     "text": [
      "Most number of cases Texas             71400\n",
      "Georgia           44800\n",
      "Virginia          37520\n",
      "Kentucky          33880\n",
      "Missouri          32760\n",
      "Kansas            29680\n",
      "Illinois          28840\n",
      "North Carolina    28280\n",
      "Iowa              28000\n",
      "Tennessee         26880\n",
      "Name: Province_State, dtype: int64\n"
     ]
    }
   ],
   "source": [
    "#Highest Number of cases in provience\n",
    "\n",
    "print(\"Most number of cases\",df['Province_State'].value_counts()[:10])"
   ]
  }
 ],
 "metadata": {
  "kernelspec": {
   "display_name": "Python 3",
   "language": "python",
   "name": "python3"
  },
  "language_info": {
   "codemirror_mode": {
    "name": "ipython",
    "version": 3
   },
   "file_extension": ".py",
   "mimetype": "text/x-python",
   "name": "python",
   "nbconvert_exporter": "python",
   "pygments_lexer": "ipython3",
   "version": "3.8.8"
  }
 },
 "nbformat": 4,
 "nbformat_minor": 5
}
