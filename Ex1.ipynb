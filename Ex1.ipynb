{
 "cells": [
  {
   "cell_type": "markdown",
   "metadata": {},
   "source": [
    "import pandas as pd\n",
    "import numpy as np\n",
    "import matplotlib.pyplot as plt\n",
    "from sklearn import linear_model\n",
    "\n",
    "\n",
    "df = pd.read_csv('canada_per_capita_income.csv')\n",
    "df\n",
    "\n",
    "%matplotlib inline\n",
    "plt.xlabel('Year')\n",
    "plt.ylabel('Income')\n",
    "plt.scatter(df.year,df.income, marker=('*'),color='Red')\n",
    "\n",
    "new_df = df.drop('income',axis='columns')\n",
    "new_df\n",
    "\n",
    "income = df.income\n",
    "income\n",
    "\n",
    "reg = linear_model.LinearRegression()\n",
    "reg.fit(new_df,income)\n",
    "\n",
    "\n",
    "reg.predict([[2020]])"
   ]
  }
 ],
 "metadata": {
  "interpreter": {
   "hash": "a1394aaa1ba4be57dfab7c5b00204927be6d8dde44cc7cb35060f165dcf87bfb"
  },
  "kernelspec": {
   "display_name": "Python 3.7.11 64-bit ('myenv': conda)",
   "language": "python",
   "name": "python3"
  },
  "language_info": {
   "codemirror_mode": {
    "name": "ipython",
    "version": 3
   },
   "file_extension": ".py",
   "mimetype": "text/x-python",
   "name": "python",
   "nbconvert_exporter": "python",
   "pygments_lexer": "ipython3",
   "version": "3.7.11"
  },
  "orig_nbformat": 4
 },
 "nbformat": 4,
 "nbformat_minor": 2
}
